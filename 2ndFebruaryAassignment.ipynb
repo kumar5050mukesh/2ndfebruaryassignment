{
 "cells": [
  {
   "cell_type": "code",
   "execution_count": 4,
   "id": "4791d1ac-aa8e-4d29-8113-33f74e5d0580",
   "metadata": {},
   "outputs": [
    {
     "data": {
      "text/plain": [
       "'the for loop is used when we know the number of times the loop is going to be executed and the start and \\nend condition is known\\nand the while loop is used for a given condition'"
      ]
     },
     "execution_count": 4,
     "metadata": {},
     "output_type": "execute_result"
    }
   ],
   "source": [
    "#answer to the question number1\n",
    "''' for loop is used when we know the number of times the loop is going to be executed and the start and \n",
    "end condition is known\n",
    "and the while loop is used for a given condition'''"
   ]
  },
  {
   "cell_type": "code",
   "execution_count": 9,
   "id": "dd91781c-5d81-4f4f-a0bb-d45f2ee01691",
   "metadata": {},
   "outputs": [
    {
     "name": "stdout",
     "output_type": "stream",
     "text": [
      "1\n",
      "3\n",
      "6\n",
      "10\n",
      "15\n",
      "21\n",
      "28\n",
      "36\n",
      "45\n",
      "55\n"
     ]
    }
   ],
   "source": [
    "#answer to the question number 2\n",
    "sum=0\n",
    "for i in range(1,11,1):\n",
    "\tsum=sum+i\n",
    "\tprint(sum)"
   ]
  },
  {
   "cell_type": "code",
   "execution_count": 8,
   "id": "c2842992-35a8-4882-8796-fd0c12a5d161",
   "metadata": {},
   "outputs": [
    {
     "name": "stdout",
     "output_type": "stream",
     "text": [
      "1\n",
      "3\n",
      "6\n",
      "10\n",
      "15\n",
      "21\n",
      "28\n",
      "36\n",
      "45\n",
      "55\n"
     ]
    }
   ],
   "source": [
    "#anser to the queation number 2\n",
    "sum=0\n",
    "i=1\n",
    "while i<=10:\n",
    "    sum=sum+i\n",
    "    i=i+1\n",
    "    print(sum)"
   ]
  },
  {
   "cell_type": "code",
   "execution_count": 14,
   "id": "b8317deb-a0fc-4775-8909-d3856605cde4",
   "metadata": {},
   "outputs": [
    {
     "name": "stdin",
     "output_type": "stream",
     "text": [
      "please input the amount of electricity 310\n"
     ]
    },
    {
     "name": "stdout",
     "output_type": "stream",
     "text": [
      "2250\n"
     ]
    }
   ],
   "source": [
    "unit=int(input('please input the amount of electricity'))\n",
    "if unit<=100:\n",
    "    coe=unit*4.5\n",
    "elif unit>100 and unit<=200:\n",
    "    coe=450+(unit-100)*6\n",
    "elif unit>200 and unit<=300:\n",
    "    coe =1050+(unit-200)*10\n",
    "elif unit>300:\n",
    "    coe =2050+(unit-300)*20\n",
    "print(coe)\n"
   ]
  },
  {
   "cell_type": "code",
   "execution_count": 3,
   "id": "f37ae326-fbc5-473e-a5d1-def2c1e5f55c",
   "metadata": {},
   "outputs": [
    {
     "name": "stdout",
     "output_type": "stream",
     "text": [
      "[8, 64, 125, 216, 512, 1000, 1728, 2744, 3375, 4096, 5832, 8000, 10648, 13824, 15625, 17576, 21952, 27000, 32768, 39304, 42875, 46656, 54872, 64000, 74088, 85184, 91125, 97336, 110592, 125000, 140608, 157464, 166375, 175616, 195112, 216000, 238328, 262144, 274625, 287496, 314432, 343000, 373248, 405224, 421875, 438976, 474552, 512000, 551368, 592704, 614125, 636056, 681472, 729000, 778688, 830584, 857375, 884736, 941192, 1000000]\n"
     ]
    }
   ],
   "source": [
    "#Q4. Create a list of numbers from 1 to 100. Use for loop to calculate the cube of each\n",
    "#number and if the cube of that number is divisible by 4 or 5 then append that number in a list and print\n",
    "#that list.\n",
    "list_numbers=list(range(1,101,1))\n",
    "empty_arr=[]\n",
    "\n",
    "for i in list_numbers:\n",
    "    cube_of_num=i*i*i\n",
    "    if cube_of_num %5==0 or cube_of_num %4==0:\n",
    "        empty_arr.append(cube_of_num)\n",
    "print(empty_arr)"
   ]
  },
  {
   "cell_type": "code",
   "execution_count": 1,
   "id": "ed2907b0-1e0a-47ac-bdda-d2c677a21366",
   "metadata": {},
   "outputs": [
    {
     "name": "stdout",
     "output_type": "stream",
     "text": [
      "8\n",
      "64\n",
      "125\n",
      "216\n",
      "512\n",
      "1000\n",
      "1728\n",
      "2744\n",
      "3375\n",
      "4096\n",
      "5832\n",
      "8000\n",
      "10648\n",
      "13824\n",
      "15625\n",
      "17576\n",
      "21952\n",
      "27000\n",
      "32768\n",
      "39304\n",
      "42875\n",
      "46656\n",
      "54872\n",
      "64000\n",
      "74088\n",
      "85184\n",
      "91125\n",
      "97336\n",
      "110592\n",
      "125000\n",
      "140608\n",
      "157464\n",
      "166375\n",
      "175616\n",
      "195112\n",
      "216000\n",
      "238328\n",
      "262144\n",
      "274625\n",
      "287496\n",
      "314432\n",
      "343000\n",
      "373248\n",
      "405224\n",
      "421875\n",
      "438976\n",
      "474552\n",
      "512000\n",
      "551368\n",
      "592704\n",
      "614125\n",
      "636056\n",
      "681472\n",
      "729000\n",
      "778688\n",
      "830584\n",
      "857375\n",
      "884736\n",
      "941192\n",
      "1000000\n"
     ]
    },
    {
     "ename": "IndexError",
     "evalue": "list index out of range",
     "output_type": "error",
     "traceback": [
      "\u001b[0;31m---------------------------------------------------------------------------\u001b[0m",
      "\u001b[0;31mIndexError\u001b[0m                                Traceback (most recent call last)",
      "Cell \u001b[0;32mIn[1], line 8\u001b[0m\n\u001b[1;32m      6\u001b[0m i \u001b[38;5;241m=\u001b[39m \u001b[38;5;241m0\u001b[39m\n\u001b[1;32m      7\u001b[0m \u001b[38;5;28;01mwhile\u001b[39;00m \u001b[38;5;28mlen\u001b[39m(list_numbers) \u001b[38;5;241m<\u001b[39m\u001b[38;5;241m=\u001b[39m \u001b[38;5;241m100\u001b[39m:\n\u001b[0;32m----> 8\u001b[0m     cube_of_numbers \u001b[38;5;241m=\u001b[39m \u001b[43mlist_numbers\u001b[49m\u001b[43m[\u001b[49m\u001b[43mi\u001b[49m\u001b[43m]\u001b[49m \u001b[38;5;241m*\u001b[39m\u001b[38;5;241m*\u001b[39m \u001b[38;5;241m3\u001b[39m\n\u001b[1;32m      9\u001b[0m     i\u001b[38;5;241m=\u001b[39mi\u001b[38;5;241m+\u001b[39m\u001b[38;5;241m1\u001b[39m\n\u001b[1;32m     10\u001b[0m     \u001b[38;5;28;01mif\u001b[39;00m cube_of_numbers \u001b[38;5;241m%\u001b[39m\u001b[38;5;241m4\u001b[39m\u001b[38;5;241m==\u001b[39m\u001b[38;5;241m0\u001b[39m \u001b[38;5;129;01mor\u001b[39;00m cube_of_numbers \u001b[38;5;241m%\u001b[39m\u001b[38;5;241m5\u001b[39m\u001b[38;5;241m==\u001b[39m\u001b[38;5;241m0\u001b[39m:\n",
      "\u001b[0;31mIndexError\u001b[0m: list index out of range"
     ]
    }
   ],
   "source": [
    "#Q4. Create a list of numbers from 1 to 100. Use  while loop to calculate the cube of each\n",
    "#number and if the cube of that number is divisible by 4 or 5 then append that number in a list and print\n",
    "#that list.\n",
    "list_numbers = list(range(1, 101, 1))\n",
    "empty_arr = []\n",
    "i = 0\n",
    "while len(list_numbers) <= 100:\n",
    "    cube_of_numbers = list_numbers[i] ** 3\n",
    "    i=i+1\n",
    "    if cube_of_numbers %4==0 or cube_of_numbers %5==0:\n",
    "        print(cube_of_numbers)"
   ]
  },
  {
   "cell_type": "code",
   "execution_count": null,
   "id": "a84218e5-694c-4759-9a12-d88183f7512c",
   "metadata": {},
   "outputs": [],
   "source": [
    "#Q5. Write a program to filter count vowels in the below-given string.\n",
    "string = \"I want to become a data scientist\"\n",
    "listname=['a','e','i','o','u','A','E','I','O','U']\n",
    "empty_arr=[]\n",
    "for i in string:\n",
    "    if i in listname :\n",
    "        empty_arr.append(i)\n",
    "print(len(empty_arr))"
   ]
  },
  {
   "cell_type": "code",
   "execution_count": null,
   "id": "60784cef-cbca-4c3c-b856-f8f22a9195c2",
   "metadata": {},
   "outputs": [],
   "source": []
  }
 ],
 "metadata": {
  "kernelspec": {
   "display_name": "Python 3 (ipykernel)",
   "language": "python",
   "name": "python3"
  },
  "language_info": {
   "codemirror_mode": {
    "name": "ipython",
    "version": 3
   },
   "file_extension": ".py",
   "mimetype": "text/x-python",
   "name": "python",
   "nbconvert_exporter": "python",
   "pygments_lexer": "ipython3",
   "version": "3.10.8"
  }
 },
 "nbformat": 4,
 "nbformat_minor": 5
}
